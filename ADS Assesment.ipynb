{
 "cells": [
  {
   "cell_type": "markdown",
   "id": "6173d9ea-0731-42e3-8ab9-ed24b082aa5f",
   "metadata": {},
   "source": [
    "# Load Price and Postcode Data"
   ]
  },
  {
   "cell_type": "code",
   "execution_count": 2,
   "id": "ddc3acc2-4b8a-40bd-a058-8113fd506176",
   "metadata": {},
   "outputs": [],
   "source": [
    "import Access"
   ]
  },
  {
   "cell_type": "code",
   "execution_count": null,
   "id": "fa6c9aa7-bd37-478e-8aee-fd96ab0deb07",
   "metadata": {},
   "outputs": [],
   "source": [
    "load_price_data_sql() \n",
    "\n",
    "# this function recreates the table in sql and loads the price data in chunks from the web address - currently loaded and takes a while to run "
   ]
  },
  {
   "cell_type": "code",
   "execution_count": null,
   "id": "a3d0a643-72d6-4f02-920b-0d0548b62453",
   "metadata": {},
   "outputs": [],
   "source": [
    "load_postcode_data('postcodes.csv')  \n",
    "\n",
    "#this function recreates the table in sql and loads data from csv to property_prices.postcode_data - its currently loaded and takes a while to run "
   ]
  },
  {
   "cell_type": "markdown",
   "id": "f8ab8747-5384-4dc5-ac3e-d29df89ebf9e",
   "metadata": {},
   "source": [
    "# Assess the Data\n"
   ]
  },
  {
   "cell_type": "code",
   "execution_count": 8,
   "id": "83805951-ccc8-4ee5-9165-8be508f5f47a",
   "metadata": {},
   "outputs": [],
   "source": [
    "import Assess"
   ]
  },
  {
   "cell_type": "markdown",
   "id": "9bf9f430-803d-4dde-b292-48e25b235c25",
   "metadata": {},
   "source": [
    "# Address the Question"
   ]
  },
  {
   "cell_type": "code",
   "execution_count": 12,
   "id": "91f19232-921d-46de-888c-abe511945993",
   "metadata": {},
   "outputs": [],
   "source": [
    "import Address"
   ]
  },
  {
   "cell_type": "code",
   "execution_count": 1,
   "id": "622f9940-ffb2-4012-88c4-7f766263be8a",
   "metadata": {},
   "outputs": [],
   "source": [
    "#input your data for property in question\n",
    "latitude = 51.74908400\n",
    "longitude = -0.34133700 \n",
    "year = 2019 \n",
    "property_type = 'T' \n",
    "\n",
    "#Optional - adjust your parameters of data pulled if not enough training data is created \n",
    "\n",
    "#time box around your property \n",
    "year_plus = 2 \n",
    "year_minus = 2 \n",
    "r = 0.02\n",
    "\n"
   ]
  },
  {
   "cell_type": "code",
   "execution_count": null,
   "id": "726ec9bd-ef64-40a2-bb27-dd1a687d5f9d",
   "metadata": {},
   "outputs": [],
   "source": [
    "\n",
    "#Predict house price \n",
    "price = address.predict_house_price(year = year , month = month, day = day, lat = latitude, lon= longitude ,prop_type = property_type ,  year_plus = year_plus , year_minus = year_minus ,    r=r  )\n",
    "\n",
    "print('The Predicted price for your property is {:.2f}'.format(price))"
   ]
  },
  {
   "cell_type": "markdown",
   "id": "8658334c-5365-489e-9bff-85cfcf2d23ab",
   "metadata": {},
   "source": [
    "Results: \n",
    "1. 51.381, -0.254, Detached house, 2015 : Predicted price £677,461 \n",
    "2. 53.357, -1.489, Semidetached House, 1999: Predicted price £78,433\n",
    "3. 53.400, -1.741, Other, 2012: Unable to complete as AWS DB exceeded free limits & had to be deleted "
   ]
  }
 ],
 "metadata": {
  "kernelspec": {
   "display_name": "ads4",
   "language": "python",
   "name": "ads4"
  },
  "language_info": {
   "codemirror_mode": {
    "name": "ipython",
    "version": 3
   },
   "file_extension": ".py",
   "mimetype": "text/x-python",
   "name": "python",
   "nbconvert_exporter": "python",
   "pygments_lexer": "ipython3",
   "version": "3.9.7"
  }
 },
 "nbformat": 4,
 "nbformat_minor": 5
}
